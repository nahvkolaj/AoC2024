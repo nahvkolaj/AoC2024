{
 "cells": [
  {
   "cell_type": "code",
   "execution_count": 61,
   "id": "fdad2a0f-bbf5-4052-8efb-359e6e680e53",
   "metadata": {},
   "outputs": [],
   "source": [
    "testcase = [[3, 4, 1, 2, 3, 3], [4, 3, 5, 3, 9, 3]]\n",
    "\n",
    "# Sort the lists\n",
    "a = testcase[0]\n",
    "b = testcase[1]\n",
    "\n",
    "a.sort()\n",
    "b.sort()\n",
    "total = 0\n",
    "\n",
    "# find the distances\n",
    "for i in range(0, len(a), 1):\n",
    "    total += abs(a[i] - b[i])"
   ]
  },
  {
   "cell_type": "code",
   "execution_count": 67,
   "id": "e0020d99-28ac-4355-b3dd-7ebb48ef2040",
   "metadata": {},
   "outputs": [],
   "source": [
    "loca = []\n",
    "locb = []\n",
    "\n",
    "with open('AoC_d1_1_input.txt') as infile:\n",
    "    for thing in infile.readlines():\n",
    "        thing1, thing2 = thing.split()\n",
    "        # for val in line.split(): int(val)\n",
    "        loca.append(int(thing1))\n",
    "        locb.append(int(thing2))\n",
    "\n",
    "loca.sort()\n",
    "locb.sort()\n",
    "\n",
    "total = 0\n",
    "for i in range(0, len(loca)):\n",
    "    total += abs(loca[i]-locb[i])\n",
    "\n",
    "print(total)"
   ]
  },
  {
   "cell_type": "code",
   "execution_count": null,
   "id": "a19e3375-e816-44bd-b8ed-ad7a2c3f235c",
   "metadata": {},
   "outputs": [],
   "source": [
    "def process(loca, locb):\n",
    "    total = 0\n",
    "    for i in range(0, len(loca)):\n",
    "        total += abs(loca[i]-locb[i])\n",
    "    \n",
    "    print(total)"
   ]
  }
 ],
 "metadata": {
  "kernelspec": {
   "display_name": "Python 3 (ipykernel)",
   "language": "python",
   "name": "python3"
  },
  "language_info": {
   "codemirror_mode": {
    "name": "ipython",
    "version": 3
   },
   "file_extension": ".py",
   "mimetype": "text/x-python",
   "name": "python",
   "nbconvert_exporter": "python",
   "pygments_lexer": "ipython3",
   "version": "3.12.3"
  }
 },
 "nbformat": 4,
 "nbformat_minor": 5
}
